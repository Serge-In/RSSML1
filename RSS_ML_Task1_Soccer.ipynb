{
  "nbformat": 4,
  "nbformat_minor": 0,
  "metadata": {
    "colab": {
      "name": "RSS ML Task1 Soccer.ipynb",
      "provenance": [],
      "collapsed_sections": [],
      "toc_visible": true,
      "mount_file_id": "1ohsWgFsE3iDbnEnWp9XsGeUEx--5w7Nm",
      "authorship_tag": "ABX9TyPAEfiblXxSOZJSiJyjTz5s",
      "include_colab_link": true
    },
    "kernelspec": {
      "name": "python3",
      "display_name": "Python 3"
    },
    "language_info": {
      "name": "python"
    }
  },
  "cells": [
    {
      "cell_type": "markdown",
      "metadata": {
        "id": "view-in-github",
        "colab_type": "text"
      },
      "source": [
        "<a href=\"https://colab.research.google.com/github/Serge-In/RSSML1/blob/main/RSS_ML_Task1_Soccer.ipynb\" target=\"_parent\"><img src=\"https://colab.research.google.com/assets/colab-badge.svg\" alt=\"Open In Colab\"/></a>"
      ]
    },
    {
      "cell_type": "code",
      "execution_count": 21,
      "metadata": {
        "id": "lAtAPYgG9fzH"
      },
      "outputs": [],
      "source": [
        "import sqlite3\n",
        "import pandas as pd\n",
        "import os\n",
        "\n",
        "pd.set_option('display.max_column', None)"
      ]
    },
    {
      "cell_type": "code",
      "source": [
        "# Leave that code unchanged, it is required for the server check!\n",
        "db = sqlite3.connect(os.environ.get(\"DB_PATH\") or 'database.sqlite')\n",
        "#db = sqlite3.connect('database.sqlite')\n",
        "#db = sqlite3.connect(\"/content/database.sqlite\")\n",
        "\n",
        "print(type(db))"
      ],
      "metadata": {
        "id": "HP2fU-0m97d1",
        "colab": {
          "base_uri": "https://localhost:8080/"
        },
        "outputId": "c400eb34-6de6-42ca-e95c-40bd4f0c50cc"
      },
      "execution_count": 22,
      "outputs": [
        {
          "output_type": "stream",
          "name": "stdout",
          "text": [
            "<class 'sqlite3.Connection'>\n"
          ]
        }
      ]
    },
    {
      "cell_type": "code",
      "source": [
        "# You may load the data from SQL table directly to the Pandas dataframe as\n",
        "player_data = pd.read_sql(\"SELECT * FROM Player;\", db)\n",
        "\n",
        "#cur = db.cursor()\n",
        "#cur.execute(\"SELECT * FROM Player;\")"
      ],
      "metadata": {
        "id": "d1ulUFaB-Aw7"
      },
      "execution_count": 24,
      "outputs": []
    },
    {
      "cell_type": "code",
      "source": [
        "player_data.head()"
      ],
      "metadata": {
        "colab": {
          "base_uri": "https://localhost:8080/",
          "height": 206
        },
        "id": "DmxbkbmPRuG5",
        "outputId": "b9ad0889-4859-4e64-b301-9c46fa5ac0cf"
      },
      "execution_count": 25,
      "outputs": [
        {
          "output_type": "execute_result",
          "data": {
            "text/html": [
              "\n",
              "  <div id=\"df-5ba5f015-f4d6-4513-ae87-4338435a3fe8\">\n",
              "    <div class=\"colab-df-container\">\n",
              "      <div>\n",
              "<style scoped>\n",
              "    .dataframe tbody tr th:only-of-type {\n",
              "        vertical-align: middle;\n",
              "    }\n",
              "\n",
              "    .dataframe tbody tr th {\n",
              "        vertical-align: top;\n",
              "    }\n",
              "\n",
              "    .dataframe thead th {\n",
              "        text-align: right;\n",
              "    }\n",
              "</style>\n",
              "<table border=\"1\" class=\"dataframe\">\n",
              "  <thead>\n",
              "    <tr style=\"text-align: right;\">\n",
              "      <th></th>\n",
              "      <th>id</th>\n",
              "      <th>player_api_id</th>\n",
              "      <th>player_name</th>\n",
              "      <th>player_fifa_api_id</th>\n",
              "      <th>birthday</th>\n",
              "      <th>height</th>\n",
              "      <th>weight</th>\n",
              "    </tr>\n",
              "  </thead>\n",
              "  <tbody>\n",
              "    <tr>\n",
              "      <th>0</th>\n",
              "      <td>1</td>\n",
              "      <td>505942</td>\n",
              "      <td>Aaron Appindangoye</td>\n",
              "      <td>218353</td>\n",
              "      <td>1992-02-29 00:00:00</td>\n",
              "      <td>182.88</td>\n",
              "      <td>187</td>\n",
              "    </tr>\n",
              "    <tr>\n",
              "      <th>1</th>\n",
              "      <td>2</td>\n",
              "      <td>155782</td>\n",
              "      <td>Aaron Cresswell</td>\n",
              "      <td>189615</td>\n",
              "      <td>1989-12-15 00:00:00</td>\n",
              "      <td>170.18</td>\n",
              "      <td>146</td>\n",
              "    </tr>\n",
              "    <tr>\n",
              "      <th>2</th>\n",
              "      <td>3</td>\n",
              "      <td>162549</td>\n",
              "      <td>Aaron Doran</td>\n",
              "      <td>186170</td>\n",
              "      <td>1991-05-13 00:00:00</td>\n",
              "      <td>170.18</td>\n",
              "      <td>163</td>\n",
              "    </tr>\n",
              "    <tr>\n",
              "      <th>3</th>\n",
              "      <td>4</td>\n",
              "      <td>30572</td>\n",
              "      <td>Aaron Galindo</td>\n",
              "      <td>140161</td>\n",
              "      <td>1982-05-08 00:00:00</td>\n",
              "      <td>182.88</td>\n",
              "      <td>198</td>\n",
              "    </tr>\n",
              "    <tr>\n",
              "      <th>4</th>\n",
              "      <td>5</td>\n",
              "      <td>23780</td>\n",
              "      <td>Aaron Hughes</td>\n",
              "      <td>17725</td>\n",
              "      <td>1979-11-08 00:00:00</td>\n",
              "      <td>182.88</td>\n",
              "      <td>154</td>\n",
              "    </tr>\n",
              "  </tbody>\n",
              "</table>\n",
              "</div>\n",
              "      <button class=\"colab-df-convert\" onclick=\"convertToInteractive('df-5ba5f015-f4d6-4513-ae87-4338435a3fe8')\"\n",
              "              title=\"Convert this dataframe to an interactive table.\"\n",
              "              style=\"display:none;\">\n",
              "        \n",
              "  <svg xmlns=\"http://www.w3.org/2000/svg\" height=\"24px\"viewBox=\"0 0 24 24\"\n",
              "       width=\"24px\">\n",
              "    <path d=\"M0 0h24v24H0V0z\" fill=\"none\"/>\n",
              "    <path d=\"M18.56 5.44l.94 2.06.94-2.06 2.06-.94-2.06-.94-.94-2.06-.94 2.06-2.06.94zm-11 1L8.5 8.5l.94-2.06 2.06-.94-2.06-.94L8.5 2.5l-.94 2.06-2.06.94zm10 10l.94 2.06.94-2.06 2.06-.94-2.06-.94-.94-2.06-.94 2.06-2.06.94z\"/><path d=\"M17.41 7.96l-1.37-1.37c-.4-.4-.92-.59-1.43-.59-.52 0-1.04.2-1.43.59L10.3 9.45l-7.72 7.72c-.78.78-.78 2.05 0 2.83L4 21.41c.39.39.9.59 1.41.59.51 0 1.02-.2 1.41-.59l7.78-7.78 2.81-2.81c.8-.78.8-2.07 0-2.86zM5.41 20L4 18.59l7.72-7.72 1.47 1.35L5.41 20z\"/>\n",
              "  </svg>\n",
              "      </button>\n",
              "      \n",
              "  <style>\n",
              "    .colab-df-container {\n",
              "      display:flex;\n",
              "      flex-wrap:wrap;\n",
              "      gap: 12px;\n",
              "    }\n",
              "\n",
              "    .colab-df-convert {\n",
              "      background-color: #E8F0FE;\n",
              "      border: none;\n",
              "      border-radius: 50%;\n",
              "      cursor: pointer;\n",
              "      display: none;\n",
              "      fill: #1967D2;\n",
              "      height: 32px;\n",
              "      padding: 0 0 0 0;\n",
              "      width: 32px;\n",
              "    }\n",
              "\n",
              "    .colab-df-convert:hover {\n",
              "      background-color: #E2EBFA;\n",
              "      box-shadow: 0px 1px 2px rgba(60, 64, 67, 0.3), 0px 1px 3px 1px rgba(60, 64, 67, 0.15);\n",
              "      fill: #174EA6;\n",
              "    }\n",
              "\n",
              "    [theme=dark] .colab-df-convert {\n",
              "      background-color: #3B4455;\n",
              "      fill: #D2E3FC;\n",
              "    }\n",
              "\n",
              "    [theme=dark] .colab-df-convert:hover {\n",
              "      background-color: #434B5C;\n",
              "      box-shadow: 0px 1px 3px 1px rgba(0, 0, 0, 0.15);\n",
              "      filter: drop-shadow(0px 1px 2px rgba(0, 0, 0, 0.3));\n",
              "      fill: #FFFFFF;\n",
              "    }\n",
              "  </style>\n",
              "\n",
              "      <script>\n",
              "        const buttonEl =\n",
              "          document.querySelector('#df-5ba5f015-f4d6-4513-ae87-4338435a3fe8 button.colab-df-convert');\n",
              "        buttonEl.style.display =\n",
              "          google.colab.kernel.accessAllowed ? 'block' : 'none';\n",
              "\n",
              "        async function convertToInteractive(key) {\n",
              "          const element = document.querySelector('#df-5ba5f015-f4d6-4513-ae87-4338435a3fe8');\n",
              "          const dataTable =\n",
              "            await google.colab.kernel.invokeFunction('convertToInteractive',\n",
              "                                                     [key], {});\n",
              "          if (!dataTable) return;\n",
              "\n",
              "          const docLinkHtml = 'Like what you see? Visit the ' +\n",
              "            '<a target=\"_blank\" href=https://colab.research.google.com/notebooks/data_table.ipynb>data table notebook</a>'\n",
              "            + ' to learn more about interactive tables.';\n",
              "          element.innerHTML = '';\n",
              "          dataTable['output_type'] = 'display_data';\n",
              "          await google.colab.output.renderOutput(dataTable, element);\n",
              "          const docLink = document.createElement('div');\n",
              "          docLink.innerHTML = docLinkHtml;\n",
              "          element.appendChild(docLink);\n",
              "        }\n",
              "      </script>\n",
              "    </div>\n",
              "  </div>\n",
              "  "
            ],
            "text/plain": [
              "   id  player_api_id         player_name  player_fifa_api_id  \\\n",
              "0   1         505942  Aaron Appindangoye              218353   \n",
              "1   2         155782     Aaron Cresswell              189615   \n",
              "2   3         162549         Aaron Doran              186170   \n",
              "3   4          30572       Aaron Galindo              140161   \n",
              "4   5          23780        Aaron Hughes               17725   \n",
              "\n",
              "              birthday  height  weight  \n",
              "0  1992-02-29 00:00:00  182.88     187  \n",
              "1  1989-12-15 00:00:00  170.18     146  \n",
              "2  1991-05-13 00:00:00  170.18     163  \n",
              "3  1982-05-08 00:00:00  182.88     198  \n",
              "4  1979-11-08 00:00:00  182.88     154  "
            ]
          },
          "metadata": {},
          "execution_count": 25
        }
      ]
    },
    {
      "cell_type": "code",
      "source": [
        "player_data.info()"
      ],
      "metadata": {
        "colab": {
          "base_uri": "https://localhost:8080/"
        },
        "id": "jzXOPSFLfZhC",
        "outputId": "8ddfb622-f03c-44e0-cfa8-38e63d032392"
      },
      "execution_count": 41,
      "outputs": [
        {
          "output_type": "stream",
          "name": "stdout",
          "text": [
            "<class 'pandas.core.frame.DataFrame'>\n",
            "RangeIndex: 11060 entries, 0 to 11059\n",
            "Data columns (total 7 columns):\n",
            " #   Column              Non-Null Count  Dtype  \n",
            "---  ------              --------------  -----  \n",
            " 0   id                  11060 non-null  int64  \n",
            " 1   player_api_id       11060 non-null  int64  \n",
            " 2   player_name         11060 non-null  object \n",
            " 3   player_fifa_api_id  11060 non-null  int64  \n",
            " 4   birthday            11060 non-null  object \n",
            " 5   height              11060 non-null  float64\n",
            " 6   weight              11060 non-null  int64  \n",
            "dtypes: float64(1), int64(4), object(2)\n",
            "memory usage: 605.0+ KB\n"
          ]
        }
      ]
    },
    {
      "cell_type": "code",
      "source": [
        ""
      ],
      "metadata": {
        "id": "LfTJWNv9fuRJ"
      },
      "execution_count": null,
      "outputs": []
    },
    {
      "cell_type": "code",
      "source": [
        "#Task 1 (0.25 point). Calculate the number of players with a height between 180 and 190 inclusive\n",
        "players_180_190 = pd.read_sql(\"SELECT height FROM Player WHERE height BETWEEN 180 AND 190;\", db)\n",
        "players_180_190.head()\n",
        "players_180_190.count()\n",
        "print(players_180_190.info())"
      ],
      "metadata": {
        "colab": {
          "base_uri": "https://localhost:8080/"
        },
        "id": "wO-EtAAma-PM",
        "outputId": "97317c50-4d70-45a3-9996-42939dbf158b"
      },
      "execution_count": 38,
      "outputs": [
        {
          "output_type": "stream",
          "name": "stdout",
          "text": [
            "<class 'pandas.core.frame.DataFrame'>\n",
            "RangeIndex: 9535 entries, 0 to 9534\n",
            "Data columns (total 1 columns):\n",
            " #   Column  Non-Null Count  Dtype  \n",
            "---  ------  --------------  -----  \n",
            " 0   height  9535 non-null   float64\n",
            "dtypes: float64(1)\n",
            "memory usage: 74.6 KB\n",
            "None\n"
          ]
        }
      ]
    },
    {
      "cell_type": "code",
      "source": [
        "#Task 1 (0.25 point). Calculate the number of players with a height between 180 and 190 inclusive\n",
        "players_180_190 = pd.read_sql(\"SELECT height FROM Player WHERE height >= 180 AND height <= 190;\", db)\n",
        "players_180_190.head(5)\n",
        "players_180_190.count()\n",
        "print(players_180_190.info())\n",
        "print(len(players_180_190))\n",
        "players_180_190 = len(players_180_190)\n"
      ],
      "metadata": {
        "colab": {
          "base_uri": "https://localhost:8080/"
        },
        "outputId": "574c936f-cd43-4e25-992b-368527b5242b",
        "id": "cKExEeame_Ee"
      },
      "execution_count": 46,
      "outputs": [
        {
          "output_type": "stream",
          "name": "stdout",
          "text": [
            "<class 'pandas.core.frame.DataFrame'>\n",
            "RangeIndex: 5925 entries, 0 to 5924\n",
            "Data columns (total 1 columns):\n",
            " #   Column  Non-Null Count  Dtype  \n",
            "---  ------  --------------  -----  \n",
            " 0   height  5925 non-null   float64\n",
            "dtypes: float64(1)\n",
            "memory usage: 46.4 KB\n",
            "None\n",
            "5925\n"
          ]
        }
      ]
    },
    {
      "cell_type": "code",
      "source": [
        "assert(isinstance(players_180_190, int))"
      ],
      "metadata": {
        "id": "6eDrbGS-fwkD"
      },
      "execution_count": 47,
      "outputs": []
    }
  ]
}